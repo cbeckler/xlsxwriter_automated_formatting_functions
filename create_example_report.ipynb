{
 "cells": [
  {
   "cell_type": "code",
   "execution_count": 35,
   "metadata": {},
   "outputs": [],
   "source": [
    "# import packages and set options\n",
    "from formatting_functions_open_source import *\n",
    "from utility_functions import *\n",
    "import numpy as np\n",
    "import pandas as pd\n",
    "import xlsxwriter\n",
    "import pandas.io.formats.excel\n",
    "\n",
    "# this allows custom formatting of header\n",
    "pandas.io.formats.excel.ExcelFormatter.header_style = None\n"
   ]
  },
  {
   "cell_type": "code",
   "execution_count": 36,
   "metadata": {},
   "outputs": [],
   "source": [
    "# load in data\n",
    "twoD_df = pd.read_csv('Data/avg_medical_svc_cost.csv')\n",
    "\n",
    "threeD_row_df_1 = pd.read_csv('Data/clients_by_gender.csv')\n",
    "\n",
    "threeD_row_df_2 = pd.read_csv('Data/clients_by_gender_2.csv')\n",
    "\n",
    "index_test_df = pd.read_csv('Data/index_test.csv')"
   ]
  },
  {
   "cell_type": "code",
   "execution_count": 37,
   "metadata": {},
   "outputs": [],
   "source": [
    "# set indices\n",
    "twoD_df.set_index('Department', inplace=True)\n",
    "\n",
    "threeD_row_df_1.set_index(['Department', 'Gender'], inplace=True)\n",
    "\n",
    "threeD_row_df_2.set_index(['Department','Gender','Trans'], inplace=True)\n",
    "\n",
    "index_test_df.set_index(['index_1','index_2','index_3'], inplace=True)"
   ]
  },
  {
   "cell_type": "code",
   "execution_count": 39,
   "metadata": {},
   "outputs": [
    {
     "name": "stderr",
     "output_type": "stream",
     "text": [
      "C:\\Users\\charl\\AppData\\Local\\Temp\\ipykernel_16976\\2489279696.py:6: FutureWarning: Use of **kwargs is deprecated, use engine_kwargs instead.\n",
      "  writer = pd.ExcelWriter('Reports/Example Clinical Report.xlsx', engine='xlsxwriter', options={'nan_inf_to_errors':True})\n",
      "c:\\Users\\charl\\anaconda3\\lib\\site-packages\\xlsxwriter\\worksheet.py:1947: UserWarning: Can't merge single cell\n",
      "  warn(\"Can't merge single cell\")\n",
      "c:\\Users\\charl\\anaconda3\\lib\\site-packages\\xlsxwriter\\workbook.py:339: UserWarning: Calling close() on already closed file.\n",
      "  warn(\"Calling close() on already closed file.\")\n"
     ]
    }
   ],
   "source": [
    "# create excel report\n",
    "\n",
    "# nan_inf_to_errors will prevent nans from breaking report creation\n",
    "## but any nans in the report are a bug that will need to be fixed\n",
    "\n",
    "writer = pd.ExcelWriter('Reports/Example Clinical Report.xlsx', engine='xlsxwriter', options={'nan_inf_to_errors':True})\n",
    "\n",
    "# exporting analyses to excel sheets\n",
    "#twoD_df.to_excel(writer, sheet_name='Avg Svc Cost by Dept')\n",
    "\n",
    "# creating workbook with sheets\n",
    "ecr_wb = writer.book\n",
    "\n",
    "twoD_sheet = ecr_wb.add_worksheet('Avg Svc Cost by Dept')\n",
    "\n",
    "threeDrow_sheet1 = ecr_wb.add_worksheet('Clients by Dept & Gender')\n",
    "\n",
    "threeDrow_sheet2 = ecr_wb.add_worksheet('Clients by Dept & Gender NEW')\n",
    "\n",
    "\n",
    "# FORMATTING AVG SVC COST BY DEPT (2 dimensional data)\n",
    "\n",
    "# header\n",
    "last_col_highlight_header(twoD_df, ecr_wb, twoD_sheet, header_offset=2)\n",
    "\n",
    "# index\n",
    "format_index(twoD_df, ecr_wb, twoD_sheet, header_offset=2)\n",
    "\n",
    "# data\n",
    "insert_data(twoD_df, ecr_wb, twoD_sheet, header_offset=2, data_type='dollar_cents')\n",
    "\n",
    "set_column_widths(twoD_df, ecr_wb, twoD_sheet)\n",
    "\n",
    "# borders\n",
    "table_bottom_border(twoD_df, ecr_wb, twoD_sheet, header_offset=2)\n",
    "\n",
    "table_right_border(twoD_df, ecr_wb, twoD_sheet, header_offset=2)\n",
    "\n",
    "# title\n",
    "insert_title(twoD_df, ecr_wb, twoD_sheet, 'Avg Service Cost by Department')\n",
    "\n",
    "\n",
    "# FORMATTING CLIENTS BY DEPT & GENDER (3 dimensional data with row mulitiindex)\n",
    "\n",
    "# header\n",
    "last_col_highlight_header(threeD_row_df_1, ecr_wb, threeDrow_sheet1, header_offset=2)\n",
    "\n",
    "# index\n",
    "merge_row_index_cells(threeD_row_df_1, ecr_wb, threeDrow_sheet1, header_offset=2)\n",
    "\n",
    "format_row_multiindex(threeD_row_df_1, ecr_wb, threeDrow_sheet1, header_offset=2)\n",
    "\n",
    "# data\n",
    "insert_row_multiindex_data(threeD_row_df_1, ecr_wb, threeDrow_sheet1, header_offset=2, data_type='numeric')\n",
    "\n",
    "set_column_widths(threeD_row_df_1, ecr_wb, threeDrow_sheet1)\n",
    "\n",
    "# borders\n",
    "table_bottom_border(threeD_row_df_1, ecr_wb, threeDrow_sheet1, header_offset=2)\n",
    "\n",
    "table_right_border(threeD_row_df_1, ecr_wb, threeDrow_sheet1, header_offset=2)\n",
    "\n",
    "# title\n",
    "insert_title(threeD_row_df_1, ecr_wb, threeDrow_sheet1, 'Unique Clients by Department & Gender')\n",
    "\n",
    "\n",
    "# FORMATTING CLIENTS BY DEPT & GENDER NEW (3 dimensional data with row mulitiindex)\n",
    "\n",
    "# header\n",
    "last_col_highlight_header(threeD_row_df_2, ecr_wb, threeDrow_sheet2, header_offset=2)\n",
    "\n",
    "# index\n",
    "merge_row_index_cells(threeD_row_df_2, ecr_wb, threeDrow_sheet2, header_offset=2)\n",
    "\n",
    "format_row_multiindex(threeD_row_df_2, ecr_wb, threeDrow_sheet2, header_offset=2)\n",
    "\n",
    "# data\n",
    "insert_row_multiindex_data(threeD_row_df_2, ecr_wb, threeDrow_sheet2, header_offset=2, data_type='numeric')\n",
    "\n",
    "set_column_widths(threeD_row_df_2, ecr_wb, threeDrow_sheet2)\n",
    "\n",
    "# borders\n",
    "table_bottom_border(threeD_row_df_2, ecr_wb, threeDrow_sheet2, header_offset=2)\n",
    "\n",
    "table_right_border(threeD_row_df_2, ecr_wb, threeDrow_sheet2, header_offset=2)\n",
    "\n",
    "# title\n",
    "insert_title(threeD_row_df_2, ecr_wb, threeDrow_sheet2, 'Unique Clients by Department & Gender (New Gender Classification Method)')\n",
    "\n",
    "\n",
    "# save workbook\n",
    "writer.save()\n",
    "writer.close()"
   ]
  },
  {
   "cell_type": "code",
   "execution_count": null,
   "metadata": {},
   "outputs": [],
   "source": []
  },
  {
   "cell_type": "code",
   "execution_count": null,
   "metadata": {},
   "outputs": [],
   "source": []
  }
 ],
 "metadata": {
  "kernelspec": {
   "display_name": "Python 3.9.12 ('base')",
   "language": "python",
   "name": "python3"
  },
  "language_info": {
   "codemirror_mode": {
    "name": "ipython",
    "version": 3
   },
   "file_extension": ".py",
   "mimetype": "text/x-python",
   "name": "python",
   "nbconvert_exporter": "python",
   "pygments_lexer": "ipython3",
   "version": "3.9.12"
  },
  "orig_nbformat": 4,
  "vscode": {
   "interpreter": {
    "hash": "16196ea7eff63910081d4e10ae1bdb1eb18fd83cb470bb8efbb9fa6b0c724af5"
   }
  }
 },
 "nbformat": 4,
 "nbformat_minor": 2
}

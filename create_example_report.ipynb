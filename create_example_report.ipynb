{
 "cells": [
  {
   "cell_type": "code",
   "execution_count": 7,
   "metadata": {},
   "outputs": [],
   "source": [
    "# import packages and set options\n",
    "from formatting_functions_open_source import *\n",
    "from utility_functions import *\n",
    "import numpy as np\n",
    "import pandas as pd\n",
    "import xlsxwriter\n",
    "import pandas.io.formats.excel\n",
    "\n",
    "# this allows custom formatting of header\n",
    "pandas.io.formats.excel.ExcelFormatter.header_style = None\n"
   ]
  },
  {
   "cell_type": "code",
   "execution_count": 8,
   "metadata": {},
   "outputs": [],
   "source": [
    "# load in data\n",
    "twoD_df = pd.read_csv('Data/avg_medical_svc_cost.csv')\n",
    "\n",
    "threeD_row_df_1 = pd.read_csv('Data/clients_by_gender.csv')\n",
    "\n",
    "threeD_row_df_2 = pd.read_csv('Data/clients_by_gender_2.csv')"
   ]
  },
  {
   "cell_type": "code",
   "execution_count": 9,
   "metadata": {},
   "outputs": [],
   "source": [
    "# set indices\n",
    "twoD_df.set_index('Department', inplace=True)\n",
    "\n",
    "threeD_row_df_1.set_index(['Department', 'Gender'], inplace=True)\n",
    "\n",
    "threeD_row_df_2.set_index(['Department','Gender','Trans'], inplace=True)"
   ]
  },
  {
   "cell_type": "code",
   "execution_count": 10,
   "metadata": {},
   "outputs": [
    {
     "name": "stderr",
     "output_type": "stream",
     "text": [
      "C:\\Users\\charl\\AppData\\Local\\Temp\\ipykernel_17972\\820728203.py:6: FutureWarning: Use of **kwargs is deprecated, use engine_kwargs instead.\n",
      "  writer = pd.ExcelWriter('Reports/Example Clinical Report.xlsx', engine='xlsxwriter', options={'nan_inf_to_errors':True})\n"
     ]
    },
    {
     "ename": "NameError",
     "evalue": "name 'return_divisible_ints' is not defined",
     "output_type": "error",
     "traceback": [
      "\u001b[1;31m---------------------------------------------------------------------------\u001b[0m",
      "\u001b[1;31mNameError\u001b[0m                                 Traceback (most recent call last)",
      "\u001b[1;32mc:\\Users\\charl\\OneDrive\\Desktop\\Personal_Projects\\xlsxwriter_automated_formatting_functions\\create_example_report.ipynb Cell 4\u001b[0m in \u001b[0;36m<cell line: 49>\u001b[1;34m()\u001b[0m\n\u001b[0;32m     <a href='vscode-notebook-cell:/c%3A/Users/charl/OneDrive/Desktop/Personal_Projects/xlsxwriter_automated_formatting_functions/create_example_report.ipynb#W3sZmlsZQ%3D%3D?line=45'>46</a>\u001b[0m last_col_highlight_header(threeD_row_df_1, ecr_wb, threeDrow_sheet1, header_offset\u001b[39m=\u001b[39m\u001b[39m2\u001b[39m)\n\u001b[0;32m     <a href='vscode-notebook-cell:/c%3A/Users/charl/OneDrive/Desktop/Personal_Projects/xlsxwriter_automated_formatting_functions/create_example_report.ipynb#W3sZmlsZQ%3D%3D?line=47'>48</a>\u001b[0m \u001b[39m# index\u001b[39;00m\n\u001b[1;32m---> <a href='vscode-notebook-cell:/c%3A/Users/charl/OneDrive/Desktop/Personal_Projects/xlsxwriter_automated_formatting_functions/create_example_report.ipynb#W3sZmlsZQ%3D%3D?line=48'>49</a>\u001b[0m merge_row_index_cells(threeD_row_df_1, ecr_wb, threeDrow_sheet1, header_offset\u001b[39m=\u001b[39;49m\u001b[39m2\u001b[39;49m)\n\u001b[0;32m     <a href='vscode-notebook-cell:/c%3A/Users/charl/OneDrive/Desktop/Personal_Projects/xlsxwriter_automated_formatting_functions/create_example_report.ipynb#W3sZmlsZQ%3D%3D?line=50'>51</a>\u001b[0m format_row_multiindex(threeD_row_df_1, ecr_wb, threeDrow_sheet1, header_offset\u001b[39m=\u001b[39m\u001b[39m2\u001b[39m)\n\u001b[0;32m     <a href='vscode-notebook-cell:/c%3A/Users/charl/OneDrive/Desktop/Personal_Projects/xlsxwriter_automated_formatting_functions/create_example_report.ipynb#W3sZmlsZQ%3D%3D?line=52'>53</a>\u001b[0m \u001b[39m# data\u001b[39;00m\n",
      "File \u001b[1;32mc:\\Users\\charl\\OneDrive\\Desktop\\Personal_Projects\\xlsxwriter_automated_formatting_functions\\formatting_functions_open_source.py:271\u001b[0m, in \u001b[0;36mmerge_row_index_cells\u001b[1;34m(df, wb, sheet, header_offset, column_offset)\u001b[0m\n\u001b[0;32m    268\u001b[0m     skip \n\u001b[0;32m    269\u001b[0m \u001b[39melse\u001b[39;00m:\n\u001b[0;32m    270\u001b[0m     \u001b[39m# create a list using return_divisible_ints with 0 as the start_num and our count of data rows as the end_num of range, divided by merge_n\u001b[39;00m\n\u001b[1;32m--> 271\u001b[0m     divisible_rows \u001b[39m=\u001b[39m [i \u001b[39mfor\u001b[39;00m i \u001b[39min\u001b[39;00m return_divisible_ints(\u001b[39m0\u001b[39m, data_rows, merge_n)]\n\u001b[0;32m    272\u001b[0m     \u001b[39m# will return 1 too many values--drop the last one\u001b[39;00m\n\u001b[0;32m    273\u001b[0m     divisible_rows\u001b[39m.\u001b[39mpop()\n",
      "\u001b[1;31mNameError\u001b[0m: name 'return_divisible_ints' is not defined"
     ]
    }
   ],
   "source": [
    "# create excel report\n",
    "\n",
    "# nan_inf_to_errors will prevent nans from breaking report creation\n",
    "## but any nans in the report are a bug that will need to be fixed\n",
    "\n",
    "writer = pd.ExcelWriter('Reports/Example Clinical Report.xlsx', engine='xlsxwriter', options={'nan_inf_to_errors':True})\n",
    "\n",
    "# exporting analyses to excel sheets\n",
    "#twoD_df.to_excel(writer, sheet_name='Avg Svc Cost by Dept')\n",
    "\n",
    "# creating workbook with sheets\n",
    "ecr_wb = writer.book\n",
    "\n",
    "twoD_sheet = ecr_wb.add_worksheet('Avg Svc Cost by Dept')\n",
    "\n",
    "threeDrow_sheet1 = ecr_wb.add_worksheet('Clients by Dept & Gender')\n",
    "\n",
    "threeDrow_sheet2 = ecr_wb.add_worksheet('Clients by Dept & Gender NEW')\n",
    "\n",
    "\n",
    "# FORMATTING AVG SVC COST BY DEPT (2 dimensional data)\n",
    "\n",
    "# header\n",
    "last_col_highlight_header(twoD_df, ecr_wb, twoD_sheet, header_offset=2)\n",
    "\n",
    "# index\n",
    "format_index(twoD_df, ecr_wb, twoD_sheet, header_offset=2)\n",
    "\n",
    "# data\n",
    "insert_data(twoD_df, ecr_wb, twoD_sheet, header_offset=2, data_type='dollar_cents')\n",
    "\n",
    "set_column_widths(twoD_df, ecr_wb, twoD_sheet)\n",
    "\n",
    "# borders\n",
    "table_bottom_border(twoD_df, ecr_wb, twoD_sheet, header_offset=2)\n",
    "\n",
    "table_right_border(twoD_df, ecr_wb, twoD_sheet, header_offset=2)\n",
    "\n",
    "# title\n",
    "insert_title(twoD_df, ecr_wb, twoD_sheet, 'Avg Service Cost by Department')\n",
    "\n",
    "\n",
    "# FORMATTING CLIENTS BY DEPT & GENDER (3 dimensional data with row mulitiindex)\n",
    "\n",
    "# header\n",
    "last_col_highlight_header(threeD_row_df_1, ecr_wb, threeDrow_sheet1, header_offset=2)\n",
    "\n",
    "# index\n",
    "merge_row_index_cells(threeD_row_df_1, ecr_wb, threeDrow_sheet1, header_offset=2)\n",
    "\n",
    "format_row_multiindex(threeD_row_df_1, ecr_wb, threeDrow_sheet1, header_offset=2)\n",
    "\n",
    "# data\n",
    "insert_row_multiindex_data(threeD_row_df_1, ecr_wb, threeDrow_sheet1, header_offset=2, data_type='numeric')\n",
    "\n",
    "set_column_widths(threeD_row_df_1, ecr_wb, threeDrow_sheet1)\n",
    "\n",
    "# borders\n",
    "table_bottom_border(threeD_row_df_1, ecr_wb, threeDrow_sheet1, header_offset=2)\n",
    "\n",
    "table_right_border(threeD_row_df_1, ecr_wb, threeDrow_sheet1, header_offset=2)\n",
    "\n",
    "# title\n",
    "insert_title(threeD_row_df_1, ecr_wb, threeDrow_sheet1, 'Unique Clients by Department & Gender')\n",
    "\n",
    "\n",
    "# FORMATTING CLIENTS BY DEPT & GENDER NEW (3 dimensional data with row mulitiindex)\n",
    "\n",
    "# header\n",
    "last_col_highlight_header(threeD_row_df_2, ecr_wb, threeDrow_sheet2, header_offset=2)\n",
    "\n",
    "# index\n",
    "merge_row_index_cells(threeD_row_df_2, ecr_wb, threeDrow_sheet2, header_offset=2)\n",
    "\n",
    "format_row_multiindex(threeD_row_df_2, ecr_wb, threeDrow_sheet2, header_offset=2)\n",
    "\n",
    "# data\n",
    "insert_row_multiindex_data(threeD_row_df_2, ecr_wb, threeDrow_sheet2, header_offset=2, data_type='numeric')\n",
    "\n",
    "set_column_widths(threeD_row_df_2, ecr_wb, threeDrow_sheet2)\n",
    "\n",
    "# borders\n",
    "table_bottom_border(threeD_row_df_2, ecr_wb, threeDrow_sheet2, header_offset=2)\n",
    "\n",
    "table_right_border(threeD_row_df_2, ecr_wb, threeDrow_sheet2, header_offset=2)\n",
    "\n",
    "# title\n",
    "insert_title(threeD_row_df_2, ecr_wb, threeDrow_sheet2, 'Unique Clients by Department & Gender (New Gender Classification Method)')\n",
    "\n",
    "# save workbook\n",
    "writer.save()\n",
    "writer.close()"
   ]
  },
  {
   "cell_type": "code",
   "execution_count": null,
   "metadata": {},
   "outputs": [],
   "source": []
  }
 ],
 "metadata": {
  "kernelspec": {
   "display_name": "Python 3.9.12 ('base')",
   "language": "python",
   "name": "python3"
  },
  "language_info": {
   "codemirror_mode": {
    "name": "ipython",
    "version": 3
   },
   "file_extension": ".py",
   "mimetype": "text/x-python",
   "name": "python",
   "nbconvert_exporter": "python",
   "pygments_lexer": "ipython3",
   "version": "3.9.12"
  },
  "orig_nbformat": 4,
  "vscode": {
   "interpreter": {
    "hash": "16196ea7eff63910081d4e10ae1bdb1eb18fd83cb470bb8efbb9fa6b0c724af5"
   }
  }
 },
 "nbformat": 4,
 "nbformat_minor": 2
}

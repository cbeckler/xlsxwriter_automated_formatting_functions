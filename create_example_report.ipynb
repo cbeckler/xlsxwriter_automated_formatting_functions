{
 "cells": [
  {
   "cell_type": "code",
   "execution_count": 1,
   "metadata": {},
   "outputs": [],
   "source": [
    "# import packages and set options\n",
    "from formatting_functions_open_source import *\n",
    "from utility_functions import *\n",
    "import numpy as np\n",
    "import pandas as pd\n",
    "import xlsxwriter\n",
    "import pandas.io.formats.excel\n",
    "\n",
    "# this allows custom formatting of header\n",
    "pandas.io.formats.excel.ExcelFormatter.header_style = None\n"
   ]
  },
  {
   "cell_type": "code",
   "execution_count": 2,
   "metadata": {},
   "outputs": [],
   "source": [
    "# load in data\n",
    "twoD_df = pd.read_csv('Data/avg_medical_svc_cost.csv')"
   ]
  },
  {
   "cell_type": "code",
   "execution_count": 3,
   "metadata": {},
   "outputs": [],
   "source": [
    "# set indices\n",
    "twoD_df.set_index('Department', inplace=True)"
   ]
  },
  {
   "cell_type": "code",
   "execution_count": 12,
   "metadata": {},
   "outputs": [
    {
     "name": "stderr",
     "output_type": "stream",
     "text": [
      "C:\\Users\\charl\\AppData\\Local\\Temp\\ipykernel_23996\\3098884096.py:8: FutureWarning: Use of **kwargs is deprecated, use engine_kwargs instead.\n",
      "  writer = pd.ExcelWriter('Reports/Example Clinical Report.xlsx', engine='xlsxwriter', options={'nan_inf_to_errors':True})\n"
     ]
    }
   ],
   "source": [
    "# create excel report\n",
    "\n",
    "# nan_inf_to_errors will prevent nans from breaking report creation\n",
    "## but any nans in the report are a bug that will need to be fixed\n",
    "from email import header\n",
    "\n",
    "\n",
    "writer = pd.ExcelWriter('Reports/Example Clinical Report.xlsx', engine='xlsxwriter', options={'nan_inf_to_errors':True})\n",
    "\n",
    "# exporting analyses to excel sheets\n",
    "#twoD_df.to_excel(writer, sheet_name='Avg Svc Cost by Dept')\n",
    "\n",
    "# creating workbook with sheets\n",
    "ecr_wb = writer.book\n",
    "\n",
    "twoD_sheet = ecr_wb.add_worksheet('Avg Svc Cost by Dept')\n",
    "\n",
    "# FORMATTING AVG SVC COST BY DEPT (2 dimensional data)\n",
    "\n",
    "# header\n",
    "last_col_highlight_header(twoD_df, ecr_wb, twoD_sheet, header_offset=2)\n",
    "\n",
    "# index\n",
    "format_index(twoD_df, ecr_wb, twoD_sheet, header_offset=2)\n",
    "\n",
    "# data\n",
    "insert_data(twoD_df, ecr_wb, twoD_sheet, header_offset=2, data_type='dollar_cents')\n",
    "\n",
    "set_column_widths(twoD_df, ecr_wb, twoD_sheet)\n",
    "\n",
    "# borders\n",
    "table_bottom_border(twoD_df, ecr_wb, twoD_sheet, header_offset=2)\n",
    "\n",
    "table_right_border(twoD_df, ecr_wb, twoD_sheet, header_offset=2)\n",
    "\n",
    "# title\n",
    "insert_title(twoD_df, ecr_wb, twoD_sheet, 'Avg Service Cost by Department')\n",
    "\n",
    "# save workbook\n",
    "writer.save()\n",
    "writer.close()"
   ]
  },
  {
   "cell_type": "code",
   "execution_count": null,
   "metadata": {},
   "outputs": [],
   "source": []
  }
 ],
 "metadata": {
  "kernelspec": {
   "display_name": "Python 3.9.12 ('base')",
   "language": "python",
   "name": "python3"
  },
  "language_info": {
   "codemirror_mode": {
    "name": "ipython",
    "version": 3
   },
   "file_extension": ".py",
   "mimetype": "text/x-python",
   "name": "python",
   "nbconvert_exporter": "python",
   "pygments_lexer": "ipython3",
   "version": "3.9.12"
  },
  "orig_nbformat": 4,
  "vscode": {
   "interpreter": {
    "hash": "16196ea7eff63910081d4e10ae1bdb1eb18fd83cb470bb8efbb9fa6b0c724af5"
   }
  }
 },
 "nbformat": 4,
 "nbformat_minor": 2
}

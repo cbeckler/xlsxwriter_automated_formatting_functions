{
 "cells": [
  {
   "cell_type": "code",
   "execution_count": 5,
   "metadata": {},
   "outputs": [],
   "source": [
    "# import packages and set options\n",
    "\n",
    "from formatting_functions_open_source import *\n",
    "import pandas as pd\n",
    "import xlsxwriter\n",
    "import pandas.io.formats.excel\n",
    "\n",
    "# this allows custom formatting of header\n",
    "pandas.io.formats.excel.ExcelFormatter.header_style = None\n"
   ]
  },
  {
   "cell_type": "code",
   "execution_count": 6,
   "metadata": {},
   "outputs": [],
   "source": [
    "# load in data\n",
    "\n",
    "twoD_df = pd.read_csv('Data/avg_medical_svc_cost.csv')"
   ]
  },
  {
   "cell_type": "code",
   "execution_count": 12,
   "metadata": {},
   "outputs": [
    {
     "data": {
      "text/html": [
       "<div>\n",
       "<style scoped>\n",
       "    .dataframe tbody tr th:only-of-type {\n",
       "        vertical-align: middle;\n",
       "    }\n",
       "\n",
       "    .dataframe tbody tr th {\n",
       "        vertical-align: top;\n",
       "    }\n",
       "\n",
       "    .dataframe thead th {\n",
       "        text-align: right;\n",
       "    }\n",
       "</style>\n",
       "<table border=\"1\" class=\"dataframe\">\n",
       "  <thead>\n",
       "    <tr style=\"text-align: right;\">\n",
       "      <th></th>\n",
       "      <th>FY 2017-18</th>\n",
       "      <th>FY 2018-19</th>\n",
       "      <th>FY 2019-20</th>\n",
       "      <th>FY 2020-21</th>\n",
       "      <th>FY 2021-22</th>\n",
       "    </tr>\n",
       "    <tr>\n",
       "      <th>Department</th>\n",
       "      <th></th>\n",
       "      <th></th>\n",
       "      <th></th>\n",
       "      <th></th>\n",
       "      <th></th>\n",
       "    </tr>\n",
       "  </thead>\n",
       "  <tbody>\n",
       "    <tr>\n",
       "      <th>Oncology</th>\n",
       "      <td>121.56</td>\n",
       "      <td>75.36</td>\n",
       "      <td>56.47</td>\n",
       "      <td>45.62</td>\n",
       "      <td>78.28</td>\n",
       "    </tr>\n",
       "    <tr>\n",
       "      <th>Gastroenterology</th>\n",
       "      <td>258.26</td>\n",
       "      <td>123.56</td>\n",
       "      <td>83.61</td>\n",
       "      <td>78.24</td>\n",
       "      <td>64.35</td>\n",
       "    </tr>\n",
       "    <tr>\n",
       "      <th>Cardiovascular</th>\n",
       "      <td>101.24</td>\n",
       "      <td>23.58</td>\n",
       "      <td>324.16</td>\n",
       "      <td>125.19</td>\n",
       "      <td>324.56</td>\n",
       "    </tr>\n",
       "    <tr>\n",
       "      <th>Optometry</th>\n",
       "      <td>53.26</td>\n",
       "      <td>351.24</td>\n",
       "      <td>95.41</td>\n",
       "      <td>236.57</td>\n",
       "      <td>256.89</td>\n",
       "    </tr>\n",
       "    <tr>\n",
       "      <th>Neurology</th>\n",
       "      <td>895.14</td>\n",
       "      <td>562.14</td>\n",
       "      <td>789.75</td>\n",
       "      <td>675.18</td>\n",
       "      <td>885.29</td>\n",
       "    </tr>\n",
       "  </tbody>\n",
       "</table>\n",
       "</div>"
      ],
      "text/plain": [
       "                  FY 2017-18  FY 2018-19  FY 2019-20  FY 2020-21  FY 2021-22\n",
       "Department                                                                  \n",
       "Oncology              121.56       75.36       56.47       45.62       78.28\n",
       "Gastroenterology      258.26      123.56       83.61       78.24       64.35\n",
       "Cardiovascular        101.24       23.58      324.16      125.19      324.56\n",
       "Optometry              53.26      351.24       95.41      236.57      256.89\n",
       "Neurology             895.14      562.14      789.75      675.18      885.29"
      ]
     },
     "execution_count": 12,
     "metadata": {},
     "output_type": "execute_result"
    }
   ],
   "source": [
    "# set indices\n",
    "twoD_df.set_index('Department', inplace=True)"
   ]
  },
  {
   "cell_type": "code",
   "execution_count": 14,
   "metadata": {},
   "outputs": [
    {
     "name": "stderr",
     "output_type": "stream",
     "text": [
      "C:\\Users\\charl\\AppData\\Local\\Temp\\ipykernel_2452\\245072920.py:5: FutureWarning: Use of **kwargs is deprecated, use engine_kwargs instead.\n",
      "  writer = pd.ExcelWriter('Reports/Example Clinical Report.xlsx', engine='xlsxwriter', options={'nan_inf_to_errors':True})\n",
      "c:\\Users\\charl\\anaconda3\\lib\\site-packages\\xlsxwriter\\workbook.py:339: UserWarning: Calling close() on already closed file.\n",
      "  warn(\"Calling close() on already closed file.\")\n"
     ]
    }
   ],
   "source": [
    "# create excel report\n",
    "\n",
    "# nan_inf_to_errors will prevent nans from breaking report creation\n",
    "## but any nans in the report are a bug that will need to be fixed\n",
    "writer = pd.ExcelWriter('Reports/Example Clinical Report.xlsx', engine='xlsxwriter', options={'nan_inf_to_errors':True})\n",
    "\n",
    "# exporting analyses to excel sheets\n",
    "twoD_df.to_excel(writer, sheet_name='Avg Svc Cost by Dept')\n",
    "\n",
    "# creating workbook with sheets\n",
    "ecr_wb = writer.book\n",
    "\n",
    "twoD_sheet = writer.sheets['Avg Svc Cost by Dept']\n",
    "\n",
    "# FORMATTING AVG SVC COST BY DEPT (2 dimensional data)\n",
    "\n",
    "# header\n",
    "last_col_highlight_header(twoD_df, ecr_wb, twoD_sheet)\n",
    "\n",
    "# index\n",
    "format_index(twoD_df, ecr_wb, twoD_sheet)\n",
    "\n",
    "# data\n",
    "format_single_numeric_data_type_df(twoD_df, ecr_wb, twoD_sheet, 'dollar_cents')\n",
    "\n",
    "set_column_widths(twoD_df, ecr_wb, twoD_sheet)\n",
    "\n",
    "# borders\n",
    "table_bottom_border(twoD_df, ecr_wb, twoD_sheet)\n",
    "\n",
    "table_right_border(twoD_df, ecr_wb, twoD_sheet)\n",
    "\n",
    "\n",
    "# save workbook\n",
    "writer.save()\n",
    "writer.close()"
   ]
  },
  {
   "cell_type": "code",
   "execution_count": null,
   "metadata": {},
   "outputs": [],
   "source": []
  }
 ],
 "metadata": {
  "kernelspec": {
   "display_name": "Python 3.9.12 ('base')",
   "language": "python",
   "name": "python3"
  },
  "language_info": {
   "codemirror_mode": {
    "name": "ipython",
    "version": 3
   },
   "file_extension": ".py",
   "mimetype": "text/x-python",
   "name": "python",
   "nbconvert_exporter": "python",
   "pygments_lexer": "ipython3",
   "version": "3.9.12"
  },
  "orig_nbformat": 4,
  "vscode": {
   "interpreter": {
    "hash": "16196ea7eff63910081d4e10ae1bdb1eb18fd83cb470bb8efbb9fa6b0c724af5"
   }
  }
 },
 "nbformat": 4,
 "nbformat_minor": 2
}
